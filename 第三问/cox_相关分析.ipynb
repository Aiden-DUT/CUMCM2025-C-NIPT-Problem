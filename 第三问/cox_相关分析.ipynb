{
 "cells": [
  {
   "cell_type": "code",
   "execution_count": 2,
   "id": "f6285ac5",
   "metadata": {},
   "outputs": [],
   "source": [
    "import pandas as pd\n",
    "import numpy as np\n",
    "from lifelines import CoxPHFitter"
   ]
  },
  {
   "cell_type": "code",
   "execution_count": 3,
   "id": "5f28ff13",
   "metadata": {},
   "outputs": [],
   "source": [
    "file_path = '附件_降维_XY.xlsx'  \n",
    "df = pd.read_excel(file_path)"
   ]
  },
  {
   "cell_type": "code",
   "execution_count": 4,
   "id": "1bde992e",
   "metadata": {},
   "outputs": [
    {
     "name": "stdout",
     "output_type": "stream",
     "text": [
      "用于Cox模型分析的有效样本量: 1082\n",
      "事件发生数 (Y浓度≥4%): 937\n"
     ]
    }
   ],
   "source": [
    "df['time'] = df['检测孕周_天数']\n",
    "df['event'] = (df['Y染色体浓度'] >= 0.04).astype(int)\n",
    "\n",
    "covars = ['孕妇BMI', 'Y染色体的Z值', '检测抽血次数', 'GC含量', '在参考基因组上比对的比例', \n",
    "               'IVF妊娠_编码', '唯一比对的读段数  ', '重复读段的比例', '生产次数', 'T13', 'T18', 'T21',  \n",
    "               '13号染色体的Z值', '18号染色体的Z值', '21号染色体的Z值', ]  \n",
    "\n",
    "covars2 = ['原始读段数', '检测孕周_天数','X染色体浓度', 'X染色体的Z值','13号染色体的GC含量', '18号染色体的GC含量','21号染色体的GC含量', \n",
    "           '年龄', '身高', '体重', '被过滤掉读段数的比例', '胎儿是否健康_编码', '末次月经_天数差',]\n",
    "\n",
    "# cols = df.select_dtypes(include=[np.int64, np.float64]).columns.tolist()\n",
    "# covars = [col for col in cols if col not in ['time', 'event', '检测孕周_天数']]\n",
    "\n",
    "\n",
    "cox_data = df[['time', 'event'] + covars2].dropna()\n",
    "\n",
    "print(f\"用于Cox模型分析的有效样本量: {len(cox_data)}\")\n",
    "print(f\"事件发生数 (Y浓度≥4%): {cox_data['event'].sum()}\")"
   ]
  },
  {
   "cell_type": "code",
   "execution_count": null,
   "id": "4cab1407",
   "metadata": {},
   "outputs": [],
   "source": [
    "cph = CoxPHFitter()\n",
    "cph.fit(cox_data, duration_col='time', event_col='event')\n",
    "\n",
    "results = cph.summary"
   ]
  },
  {
   "cell_type": "code",
   "execution_count": 6,
   "id": "f42e9f36",
   "metadata": {},
   "outputs": [],
   "source": [
    "def add_significance(p_value):\n",
    "    if p_value < 0.001:\n",
    "        return '***'\n",
    "    elif p_value < 0.01:\n",
    "        return '**'\n",
    "    elif p_value < 0.05:\n",
    "        return '*'\n",
    "    else:\n",
    "        return ''"
   ]
  },
  {
   "cell_type": "code",
   "execution_count": 7,
   "id": "32723a5f",
   "metadata": {},
   "outputs": [],
   "source": [
    "results = results.rename(columns={\n",
    "    'coef': 'coef',\n",
    "    'exp(coef)': 'exp(coef)',\n",
    "    'se(coef)': 'se(coef)',\n",
    "    'p': 'p'\n",
    "})\n",
    "\n",
    "results['significance'] = results['p'].apply(add_significance)"
   ]
  },
  {
   "cell_type": "code",
   "execution_count": null,
   "id": "6a6440c1",
   "metadata": {},
   "outputs": [],
   "source": [
    "# 6. 输出漂亮的结果表格\n",
    "print(\"\\n\" + \"=\"*60)\n",
    "print(\"Cox比例风险模型分析结果\")\n",
    "print(\"=\"*60)\n",
    "print(f\"{'变量':<10} {'coef':<8} {'exp(coef)':<12} {'se(coef)':<10} {'p':<8} {'显著性':<6}\")\n",
    "print(\"-\"*60)\n",
    "\n",
    "for index, row in results.iterrows():\n",
    "    print(f\"{index:<10} {row['coef']:>7.3f} {row['exp(coef)']:>11.3f} \"\n",
    "          f\"{row['se(coef)']:>9.3f} {row['p']:>7.3f} {row['significance']:>6}\")"
   ]
  },
  {
   "cell_type": "code",
   "execution_count": null,
   "id": "8e41607b",
   "metadata": {},
   "outputs": [],
   "source": [
    "print(\"\\n风险比(HR)解读:\")\n",
    "for covariate in covars:\n",
    "    if covariate in results.index:\n",
    "        hr = results.loc[covariate, 'exp(coef)']\n",
    "        p_val = results.loc[covariate, 'p']\n",
    "        if p_val < 0.05:\n",
    "            if hr > 1:\n",
    "                print(f\"  {covariate}: HR = {hr:.3f}, 是风险因素 (促进早期达标)\")\n",
    "            else:\n",
    "                print(f\"  {covariate}: HR = {hr:.3f}, 是保护因素 (推迟达标时间)\")\n",
    "        else:\n",
    "            print(f\"  {covariate}: HR = {hr:.3f}, 影响不显著 (p = {p_val:.3f})\")\n"
   ]
  }
 ],
 "metadata": {
  "kernelspec": {
   "display_name": "CUMCM",
   "language": "python",
   "name": "python3"
  },
  "language_info": {
   "codemirror_mode": {
    "name": "ipython",
    "version": 3
   },
   "file_extension": ".py",
   "mimetype": "text/x-python",
   "name": "python",
   "nbconvert_exporter": "python",
   "pygments_lexer": "ipython3",
   "version": "3.12.11"
  }
 },
 "nbformat": 4,
 "nbformat_minor": 5
}
