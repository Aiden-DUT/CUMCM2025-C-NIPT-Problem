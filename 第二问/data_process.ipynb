{
 "cells": [
  {
   "cell_type": "code",
   "execution_count": 2,
   "id": "a13451bf",
   "metadata": {},
   "outputs": [],
   "source": [
    "import pandas as pd\n",
    "import numpy as np\n",
    "import os\n",
    "import matplotlib.pyplot as plt\n",
    "import seaborn as sns\n",
    "    \n",
    "import openpyxl\n",
    "\n",
    "from scipy import stats\n"
   ]
  },
  {
   "cell_type": "code",
   "execution_count": 3,
   "id": "827dfe75",
   "metadata": {},
   "outputs": [],
   "source": [
    "df = pd.read_excel('附件_降维_XY.xlsx')\n",
    "\n",
    "# 筛选Y染色体浓度大于等于0.04的行\n",
    "filtered_df = df[df['Y染色体浓度'] >= 0.04]\n",
    "\n",
    "# 按孕妇代码分组，并找到每组中检测孕周天数最小的行\n",
    "result_df = filtered_df.loc[filtered_df.groupby('孕妇代码')['检测孕周_天数'].idxmin()]\n",
    "\n",
    "# 选择需要的列\n",
    "result_df = result_df[['序号', '孕妇代码', '孕妇BMI', 'Y染色体浓度', '检测孕周_天数']]\n",
    "\n",
    "# 保存到新的Excel文件\n",
    "result_df.to_excel('附件_提取.xlsx', index=False)\n"
   ]
  },
  {
   "cell_type": "markdown",
   "id": "ede89246",
   "metadata": {},
   "source": [
    "## 分位数进行bmi分组，对比"
   ]
  },
  {
   "cell_type": "code",
   "execution_count": 4,
   "id": "fdad0ed4",
   "metadata": {},
   "outputs": [],
   "source": [
    "plt.rcParams['font.family'] = 'SimHei' \n",
    "sns.set(font='SimHei')\n",
    "plt.rcParams['mathtext.fontset'] = 'stix'  # 使用STIX字体，支持数学符号\n",
    "plt.rcParams['mathtext.default'] = 'regular'  # 默认数学文本样式"
   ]
  },
  {
   "cell_type": "code",
   "execution_count": null,
   "id": "92766f08",
   "metadata": {},
   "outputs": [],
   "source": [
    "def compare(data):\n",
    "    \"\"\"比较不同的分位数方法\"\"\"\n",
    "    methods = {\n",
    "        '等分位数': lambda x, n: np.percentile(x, [100 * i / n for i in range(1, n)]),\n",
    "        '等间距': lambda x, n: np.linspace(np.min(x), np.max(x), n + 1)[1:-1],\n",
    "        '基于密度的分位数': lambda x, n: np.percentile(x, [100 * i / (n+1) for i in range(1, n+1)])[:-1]\n",
    "    }\n",
    "    \n",
    "    results = []\n",
    "    bmi_values = data['孕妇BMI'].values\n",
    "    gestational_age = data['检测孕周_天数'].values\n",
    "    \n",
    "    for method_name, method_func in methods.items():\n",
    "        for n_groups in range(2, 7):\n",
    "            try:\n",
    "                boundaries = method_func(bmi_values, n_groups)\n",
    "                labels = np.digitize(bmi_values, boundaries)\n",
    "                \n",
    "                total_variance = 0\n",
    "                for i in range(n_groups):\n",
    "                    group_ages = gestational_age[labels == i]\n",
    "                    if len(group_ages) > 1:\n",
    "                        total_variance += np.var(group_ages)\n",
    "                \n",
    "                results.append({\n",
    "                    '方法': method_name,\n",
    "                    '分组数': n_groups,\n",
    "                    '方差和': total_variance,\n",
    "                    '各组平均方差':total_variance / n_groups,\n",
    "                    '边界': boundaries\n",
    "                })\n",
    "            except:\n",
    "                continue\n",
    "    \n",
    "    return pd.DataFrame(results)"
   ]
  },
  {
   "cell_type": "code",
   "execution_count": 6,
   "id": "133555f2",
   "metadata": {},
   "outputs": [
    {
     "name": "stderr",
     "output_type": "stream",
     "text": [
      "<>:1: SyntaxWarning: invalid escape sequence '\\M'\n",
      "<>:1: SyntaxWarning: invalid escape sequence '\\M'\n",
      "C:\\Users\\86185\\AppData\\Local\\Temp\\ipykernel_5780\\559269292.py:1: SyntaxWarning: invalid escape sequence '\\M'\n",
      "  file_path = \"D:\\Mathematical-Contest-in-Modeling\\C题\\第二问\\附件_提取.xlsx\"\n"
     ]
    }
   ],
   "source": [
    "file_path = \"D:\\Mathematical-Contest-in-Modeling\\C题\\第二问\\附件_提取.xlsx\"\n",
    "df = pd.read_excel(file_path, engine='openpyxl')"
   ]
  },
  {
   "cell_type": "code",
   "execution_count": null,
   "id": "8cca0210",
   "metadata": {},
   "outputs": [],
   "source": [
    "comparison_results = compare(df)"
   ]
  },
  {
   "cell_type": "code",
   "execution_count": 8,
   "id": "d4ab816b",
   "metadata": {},
   "outputs": [
    {
     "name": "stdout",
     "output_type": "stream",
     "text": [
      "分位数方法比较结果已保存到: D:\\Mathematical-Contest-in-Modeling\\C题\\第二问\\分位数方法比较结果.xlsx\n",
      "\n",
      "比较结果前5行:\n",
      "     方法  分组数          方差和      各组平均方差  \\\n",
      "0  等分位数    2   761.853550  380.926775   \n",
      "1  等分位数    3  1132.358596  377.452865   \n",
      "2  等分位数    4  1499.816099  374.954025   \n",
      "3  等分位数    5  1849.588844  369.917769   \n",
      "4  等分位数    6  2134.579644  355.763274   \n",
      "\n",
      "                                            边界  \n",
      "0                                      31.3046  \n",
      "1                             30.2076, 32.7183  \n",
      "2                    29.7521, 31.3046, 33.4103  \n",
      "3           29.4376, 30.4834, 32.3113, 33.9906  \n",
      "4  29.1803, 30.2076, 31.3046, 32.7183, 34.3329  \n"
     ]
    },
    {
     "name": "stderr",
     "output_type": "stream",
     "text": [
      "<>:2: SyntaxWarning: invalid escape sequence '\\M'\n",
      "<>:2: SyntaxWarning: invalid escape sequence '\\M'\n",
      "C:\\Users\\86185\\AppData\\Local\\Temp\\ipykernel_5780\\2870424238.py:2: SyntaxWarning: invalid escape sequence '\\M'\n",
      "  comparison_results_output_path = \"D:\\Mathematical-Contest-in-Modeling\\C题\\第二问\\分位数方法比较结果.xlsx\"\n"
     ]
    }
   ],
   "source": [
    "# 导出比较结果到Excel\n",
    "comparison_results_output_path = \"D:\\Mathematical-Contest-in-Modeling\\C题\\第二问\\分位数方法比较结果.xlsx\"\n",
    "\n",
    "# 格式化边界列，使其更易读\n",
    "comparison_results_formatted = comparison_results.copy()\n",
    "comparison_results_formatted['边界'] = comparison_results_formatted['边界'].apply(\n",
    "    lambda x: ', '.join([f'{b:.4f}' for b in x]) if isinstance(x, np.ndarray) else str(x)\n",
    ")\n",
    "\n",
    "# 保存到Excel\n",
    "comparison_results_formatted.to_excel(comparison_results_output_path, index=False, engine='openpyxl')\n",
    "\n",
    "print(f\"分位数方法比较结果已保存到: {comparison_results_output_path}\")\n",
    "print(\"\\n比较结果前5行:\")\n",
    "print(comparison_results_formatted.head())"
   ]
  },
  {
   "cell_type": "code",
   "execution_count": null,
   "id": "65892555",
   "metadata": {},
   "outputs": [],
   "source": [
    "# 1. 各组平均方差折线图\n",
    "plt.figure(figsize=(10, 6))\n",
    "methods = comparison_results['方法'].unique()\n",
    "colors = plt.cm.Set3(np.linspace(0, 1, len(methods)))\n",
    "\n",
    "for i, method in enumerate(methods):\n",
    "    method_data = comparison_results[comparison_results['方法'] == method]\n",
    "    plt.plot(method_data['分组数'], method_data['各组平均方差'], \n",
    "             marker='o', label=method, color=colors[i], linewidth=2, markersize=8)\n",
    "    \n",
    "plt.xlabel('分组数量')\n",
    "plt.ylabel('各组平均方差')\n",
    "plt.title('不同分位数方法的各组平均方差比较')\n",
    "plt.legend()\n",
    "plt.grid(True, alpha=0.3)\n",
    "plt.savefig('average_variance_comparison.svg', format='svg', bbox_inches='tight')\n",
    "plt.show()\n",
    "\n",
    "# 2. 各组平均方差热力图\n",
    "plt.figure(figsize=(8, 6))\n",
    "heatmap_data = []\n",
    "for method in methods:\n",
    "    method_data = comparison_results[comparison_results['方法'] == method]\n",
    "    row = []\n",
    "    for n_groups in range(2, 7):\n",
    "        group_data = method_data[method_data['分组数'] == n_groups]\n",
    "        if len(group_data) > 0:\n",
    "            row.append(group_data['各组平均方差'].values[0])\n",
    "        else:\n",
    "            row.append(np.nan)\n",
    "    heatmap_data.append(row)\n",
    "\n",
    "heatmap = plt.imshow(heatmap_data, cmap='viridis_r', aspect='auto')\n",
    "plt.colorbar(heatmap, label='各组平均方差')\n",
    "plt.xticks(range(5), range(2, 7))\n",
    "plt.yticks(range(len(methods)), methods)\n",
    "plt.xlabel('分组数量')\n",
    "plt.ylabel('分位数方法')\n",
    "plt.title('各组平均方差热力图\\n(颜色越浅表示方差越小)')\n",
    "\n",
    "# 添加数值标注\n",
    "for i in range(len(methods)):\n",
    "    for j in range(5):\n",
    "        if not np.isnan(heatmap_data[i][j]):\n",
    "            plt.text(j, i, f'{heatmap_data[i][j]:.3f}', \n",
    "                    ha='center', va='center', fontweight='bold',\n",
    "                    color='white' if heatmap_data[i][j] > np.nanmean(heatmap_data) else 'black')\n",
    "\n",
    "plt.savefig('average_variance_heatmap.svg', format='svg', bbox_inches='tight')\n",
    "plt.show()\n",
    "\n",
    "# 3. 最佳分组结果散点图\n",
    "plt.figure(figsize=(10, 6))\n",
    "best_result = comparison_results.loc[comparison_results['各组平均方差'].idxmin()]\n",
    "best_method = best_result['方法']\n",
    "best_n_groups = best_result['分组数']\n",
    "best_boundaries = best_result['边界']\n",
    "\n",
    "# 应用最佳方法重新计算标签\n",
    "if best_method == '等分位数':\n",
    "    boundaries = np.percentile(df['孕妇BMI'], \n",
    "                              [100 * i / best_n_groups for i in range(1, best_n_groups)])\n",
    "elif best_method == '等间距':\n",
    "    boundaries = np.linspace(df['孕妇BMI'].min(), \n",
    "                           df['孕妇BMI'].max(), best_n_groups + 1)[1:-1]\n",
    "else:  # 基于密度的分位数\n",
    "    boundaries = np.percentile(df['孕妇BMI'], \n",
    "                              [100 * i / (best_n_groups+1) for i in range(1, best_n_groups+1)])[:-1]\n",
    "\n",
    "labels = np.digitize(df['孕妇BMI'], boundaries)\n",
    "\n",
    "# 绘制分组结果\n",
    "colors = plt.cm.Set3(np.linspace(0, 1, best_n_groups))\n",
    "for i in range(best_n_groups):\n",
    "    group_data = df[labels == i]\n",
    "    count = len(group_data)   \n",
    "    mean_bmis = group_data['孕妇BMI'].mean() \n",
    "    plt.scatter(group_data['孕妇BMI'], group_data['检测孕周_天数'], \n",
    "               alpha=0.7, color=colors[i], label=f'组{i+1} (n={count}, 平均BMI={mean_bmis:.2f})', s=50)\n",
    "\n",
    "for boundary in boundaries:\n",
    "    plt.axvline(x=boundary, color='red', linestyle='--', alpha=0.8, linewidth=2)\n",
    "\n",
    "plt.xlabel('孕妇BMI')\n",
    "plt.ylabel('检测孕周天数')\n",
    "plt.title(f'最佳方法: {best_method} ({best_n_groups}组)\\n各组平均方差: {best_result[\"各组平均方差\"]:.4f}')\n",
    "plt.legend()\n",
    "plt.grid(True, alpha=0.3)\n",
    "plt.savefig('best_grouping_result.svg', format='svg', bbox_inches='tight')\n",
    "plt.show()\n",
    "\n",
    "# 输出结果\n",
    "print(\"不同分位数方法的最佳分组结果（按各组平均方差排序）:\")\n",
    "print(comparison_results[['方法', '分组数', '方差和', '各组平均方差']].sort_values('各组平均方差'))\n",
    "\n",
    "print(f\"\\n最佳分组方法: {best_method}, 分组数: {best_n_groups}\")\n",
    "print(f\"各组平均方差: {best_result['各组平均方差']:.4f}\")"
   ]
  },
  {
   "cell_type": "code",
   "execution_count": 14,
   "id": "da0a36d8",
   "metadata": {},
   "outputs": [
    {
     "name": "stderr",
     "output_type": "stream",
     "text": [
      "<>:11: SyntaxWarning: invalid escape sequence '\\M'\n",
      "<>:11: SyntaxWarning: invalid escape sequence '\\M'\n",
      "C:\\Users\\86185\\AppData\\Local\\Temp\\ipykernel_18524\\2425527870.py:11: SyntaxWarning: invalid escape sequence '\\M'\n",
      "  output_file_path = \"D:\\Mathematical-Contest-in-Modeling\\C题\\第二问\\附件_分组_XY.xlsx\"\n"
     ]
    },
    {
     "name": "stdout",
     "output_type": "stream",
     "text": [
      "\n",
      "已为原始数据添加组别列，并保存到: D:\\Mathematical-Contest-in-Modeling\\C题\\第二问\\附件_分组_XY.xlsx\n",
      "\n",
      "添加组别后的数据前5行:\n",
      "   孕妇代码      孕妇BMI  检测孕周_天数  组别\n",
      "0  A001  28.515625      141  组2\n",
      "1  A002  33.331832       97  组3\n",
      "2  A003  30.742188       91  组3\n",
      "3  A004  28.641243       77  组2\n",
      "4  A005  29.955556       86  组2\n"
     ]
    }
   ],
   "source": [
    "bmi_values = df['孕妇BMI'].values\n",
    "boundaries = np.linspace(bmi_values.min(), bmi_values.max(), best_n_groups + 1)[1:-1]\n",
    "\n",
    "df2 = pd.read_excel(\"附件_降维_XY.xlsx\")\n",
    "bmi2_values = df2['孕妇BMI'].values\n",
    "# 为每个样本分配组别\n",
    "labels = np.digitize(bmi2_values, boundaries)\n",
    "df2['组别'] = [int(i+1) for i in labels]\n",
    "\n",
    "# 保存带有组别的新Excel文件\n",
    "output_file_path = \"D:\\Mathematical-Contest-in-Modeling\\C题\\第二问\\附件_分组_XY.xlsx\"\n",
    "df2.to_excel(output_file_path, index=False, engine='openpyxl')\n",
    "\n",
    "print(f\"\\n已为原始数据添加组别列，并保存到: {output_file_path}\")\n",
    "\n",
    "\n",
    "# 显示前几行数据确认\n",
    "print(\"\\n添加组别后的数据前5行:\")\n",
    "print(df[['孕妇代码', '孕妇BMI', '检测孕周_天数', '组别']].head())"
   ]
  }
 ],
 "metadata": {
  "kernelspec": {
   "display_name": "CUMCM",
   "language": "python",
   "name": "python3"
  },
  "language_info": {
   "codemirror_mode": {
    "name": "ipython",
    "version": 3
   },
   "file_extension": ".py",
   "mimetype": "text/x-python",
   "name": "python",
   "nbconvert_exporter": "python",
   "pygments_lexer": "ipython3",
   "version": "3.12.11"
  }
 },
 "nbformat": 4,
 "nbformat_minor": 5
}
